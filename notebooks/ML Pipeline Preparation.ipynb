{
 "cells": [
  {
   "cell_type": "markdown",
   "metadata": {},
   "source": [
    "# ML Pipeline Preparation\n",
    "Follow the instructions below to help you create your ML pipeline.\n",
    "### 1. Import libraries and load data from database.\n",
    "- Import Python libraries\n",
    "- Load dataset from database with [`read_sql_table`](https://pandas.pydata.org/pandas-docs/stable/generated/pandas.read_sql_table.html)\n",
    "- Define feature and target variables X and Y"
   ]
  },
  {
   "cell_type": "code",
   "execution_count": 11,
   "metadata": {},
   "outputs": [
    {
     "name": "stderr",
     "output_type": "stream",
     "text": [
      "[nltk_data] Downloading package punkt to\n",
      "[nltk_data]     C:\\Users\\Fatemah\\AppData\\Roaming\\nltk_data...\n",
      "[nltk_data]   Package punkt is already up-to-date!\n",
      "[nltk_data] Downloading package wordnet to\n",
      "[nltk_data]     C:\\Users\\Fatemah\\AppData\\Roaming\\nltk_data...\n",
      "[nltk_data]   Package wordnet is already up-to-date!\n"
     ]
    },
    {
     "data": {
      "text/plain": [
       "True"
      ]
     },
     "execution_count": 11,
     "metadata": {},
     "output_type": "execute_result"
    }
   ],
   "source": [
    "# import libraries\n",
    "import numpy as np\n",
    "import pandas as pd\n",
    "from sqlalchemy import create_engine\n",
    "import nltk\n",
    "\n",
    "from sklearn.pipeline import Pipeline\n",
    "from sklearn.model_selection import train_test_split\n",
    "from sklearn.metrics import classification_report\n",
    "from sklearn.metrics import confusion_matrix\n",
    "from sklearn.metrics import fbeta_score, make_scorer\n",
    "from sklearn.ensemble import GradientBoostingClassifier, RandomForestClassifier\n",
    "from sklearn.model_selection import GridSearchCV\n",
    "from sklearn.feature_extraction.text import TfidfTransformer, CountVectorizer\n",
    "from sklearn.multioutput import MultiOutputClassifier\n",
    "\n",
    "\n",
    "import pickle\n",
    "nltk.download('punkt')\n",
    "nltk.download('wordnet')\n",
    "\n"
   ]
  },
  {
   "cell_type": "code",
   "execution_count": 12,
   "metadata": {},
   "outputs": [
    {
     "data": {
      "text/html": [
       "<div>\n",
       "<style scoped>\n",
       "    .dataframe tbody tr th:only-of-type {\n",
       "        vertical-align: middle;\n",
       "    }\n",
       "\n",
       "    .dataframe tbody tr th {\n",
       "        vertical-align: top;\n",
       "    }\n",
       "\n",
       "    .dataframe thead th {\n",
       "        text-align: right;\n",
       "    }\n",
       "</style>\n",
       "<table border=\"1\" class=\"dataframe\">\n",
       "  <thead>\n",
       "    <tr style=\"text-align: right;\">\n",
       "      <th></th>\n",
       "      <th>id</th>\n",
       "      <th>message</th>\n",
       "      <th>original</th>\n",
       "      <th>genre</th>\n",
       "      <th>related</th>\n",
       "      <th>request</th>\n",
       "      <th>offer</th>\n",
       "      <th>aid_related</th>\n",
       "      <th>medical_help</th>\n",
       "      <th>medical_products</th>\n",
       "      <th>...</th>\n",
       "      <th>aid_centers</th>\n",
       "      <th>other_infrastructure</th>\n",
       "      <th>weather_related</th>\n",
       "      <th>floods</th>\n",
       "      <th>storm</th>\n",
       "      <th>fire</th>\n",
       "      <th>earthquake</th>\n",
       "      <th>cold</th>\n",
       "      <th>other_weather</th>\n",
       "      <th>direct_report</th>\n",
       "    </tr>\n",
       "  </thead>\n",
       "  <tbody>\n",
       "    <tr>\n",
       "      <th>0</th>\n",
       "      <td>2</td>\n",
       "      <td>Weather update - a cold front from Cuba that c...</td>\n",
       "      <td>Un front froid se retrouve sur Cuba ce matin. ...</td>\n",
       "      <td>direct</td>\n",
       "      <td>1</td>\n",
       "      <td>0</td>\n",
       "      <td>0</td>\n",
       "      <td>0</td>\n",
       "      <td>0</td>\n",
       "      <td>0</td>\n",
       "      <td>...</td>\n",
       "      <td>0</td>\n",
       "      <td>0</td>\n",
       "      <td>0</td>\n",
       "      <td>0</td>\n",
       "      <td>0</td>\n",
       "      <td>0</td>\n",
       "      <td>0</td>\n",
       "      <td>0</td>\n",
       "      <td>0</td>\n",
       "      <td>0</td>\n",
       "    </tr>\n",
       "    <tr>\n",
       "      <th>1</th>\n",
       "      <td>7</td>\n",
       "      <td>Is the Hurricane over or is it not over</td>\n",
       "      <td>Cyclone nan fini osinon li pa fini</td>\n",
       "      <td>direct</td>\n",
       "      <td>1</td>\n",
       "      <td>0</td>\n",
       "      <td>0</td>\n",
       "      <td>1</td>\n",
       "      <td>0</td>\n",
       "      <td>0</td>\n",
       "      <td>...</td>\n",
       "      <td>0</td>\n",
       "      <td>0</td>\n",
       "      <td>1</td>\n",
       "      <td>0</td>\n",
       "      <td>1</td>\n",
       "      <td>0</td>\n",
       "      <td>0</td>\n",
       "      <td>0</td>\n",
       "      <td>0</td>\n",
       "      <td>0</td>\n",
       "    </tr>\n",
       "    <tr>\n",
       "      <th>2</th>\n",
       "      <td>8</td>\n",
       "      <td>Looking for someone but no name</td>\n",
       "      <td>Patnm, di Maryani relem pou li banm nouvel li ...</td>\n",
       "      <td>direct</td>\n",
       "      <td>1</td>\n",
       "      <td>0</td>\n",
       "      <td>0</td>\n",
       "      <td>0</td>\n",
       "      <td>0</td>\n",
       "      <td>0</td>\n",
       "      <td>...</td>\n",
       "      <td>0</td>\n",
       "      <td>0</td>\n",
       "      <td>0</td>\n",
       "      <td>0</td>\n",
       "      <td>0</td>\n",
       "      <td>0</td>\n",
       "      <td>0</td>\n",
       "      <td>0</td>\n",
       "      <td>0</td>\n",
       "      <td>0</td>\n",
       "    </tr>\n",
       "    <tr>\n",
       "      <th>3</th>\n",
       "      <td>9</td>\n",
       "      <td>UN reports Leogane 80-90 destroyed. Only Hospi...</td>\n",
       "      <td>UN reports Leogane 80-90 destroyed. Only Hospi...</td>\n",
       "      <td>direct</td>\n",
       "      <td>1</td>\n",
       "      <td>1</td>\n",
       "      <td>0</td>\n",
       "      <td>1</td>\n",
       "      <td>0</td>\n",
       "      <td>1</td>\n",
       "      <td>...</td>\n",
       "      <td>0</td>\n",
       "      <td>0</td>\n",
       "      <td>0</td>\n",
       "      <td>0</td>\n",
       "      <td>0</td>\n",
       "      <td>0</td>\n",
       "      <td>0</td>\n",
       "      <td>0</td>\n",
       "      <td>0</td>\n",
       "      <td>0</td>\n",
       "    </tr>\n",
       "    <tr>\n",
       "      <th>4</th>\n",
       "      <td>12</td>\n",
       "      <td>says: west side of Haiti, rest of the country ...</td>\n",
       "      <td>facade ouest d Haiti et le reste du pays aujou...</td>\n",
       "      <td>direct</td>\n",
       "      <td>1</td>\n",
       "      <td>0</td>\n",
       "      <td>0</td>\n",
       "      <td>0</td>\n",
       "      <td>0</td>\n",
       "      <td>0</td>\n",
       "      <td>...</td>\n",
       "      <td>0</td>\n",
       "      <td>0</td>\n",
       "      <td>0</td>\n",
       "      <td>0</td>\n",
       "      <td>0</td>\n",
       "      <td>0</td>\n",
       "      <td>0</td>\n",
       "      <td>0</td>\n",
       "      <td>0</td>\n",
       "      <td>0</td>\n",
       "    </tr>\n",
       "  </tbody>\n",
       "</table>\n",
       "<p>5 rows × 40 columns</p>\n",
       "</div>"
      ],
      "text/plain": [
       "   id                                            message  \\\n",
       "0   2  Weather update - a cold front from Cuba that c...   \n",
       "1   7            Is the Hurricane over or is it not over   \n",
       "2   8                    Looking for someone but no name   \n",
       "3   9  UN reports Leogane 80-90 destroyed. Only Hospi...   \n",
       "4  12  says: west side of Haiti, rest of the country ...   \n",
       "\n",
       "                                            original   genre  related  \\\n",
       "0  Un front froid se retrouve sur Cuba ce matin. ...  direct        1   \n",
       "1                 Cyclone nan fini osinon li pa fini  direct        1   \n",
       "2  Patnm, di Maryani relem pou li banm nouvel li ...  direct        1   \n",
       "3  UN reports Leogane 80-90 destroyed. Only Hospi...  direct        1   \n",
       "4  facade ouest d Haiti et le reste du pays aujou...  direct        1   \n",
       "\n",
       "   request  offer  aid_related  medical_help  medical_products      ...        \\\n",
       "0        0      0            0             0                 0      ...         \n",
       "1        0      0            1             0                 0      ...         \n",
       "2        0      0            0             0                 0      ...         \n",
       "3        1      0            1             0                 1      ...         \n",
       "4        0      0            0             0                 0      ...         \n",
       "\n",
       "   aid_centers  other_infrastructure  weather_related  floods  storm  fire  \\\n",
       "0            0                     0                0       0      0     0   \n",
       "1            0                     0                1       0      1     0   \n",
       "2            0                     0                0       0      0     0   \n",
       "3            0                     0                0       0      0     0   \n",
       "4            0                     0                0       0      0     0   \n",
       "\n",
       "   earthquake  cold  other_weather  direct_report  \n",
       "0           0     0              0              0  \n",
       "1           0     0              0              0  \n",
       "2           0     0              0              0  \n",
       "3           0     0              0              0  \n",
       "4           0     0              0              0  \n",
       "\n",
       "[5 rows x 40 columns]"
      ]
     },
     "execution_count": 12,
     "metadata": {},
     "output_type": "execute_result"
    }
   ],
   "source": [
    "# load data from database\n",
    "engine = create_engine('sqlite:///disaster_response')\n",
    "df = pd.read_sql('SELECT * FROM disaster_response', engine)\n",
    "X = df.filter(items=['id', 'message', 'original', 'genre'])\n",
    "y = df.drop(['id', 'message', 'original', 'genre', 'child_alone'], axis=1)#'child_alone' has no responses\n",
    "#Mapping the '2' values in 'related' to '1' - because I consider them as a response (that is, '1')\n",
    "y['related']=y['related'].map(lambda x: 1 if x == 2 else x)\n",
    "df.head()"
   ]
  },
  {
   "cell_type": "markdown",
   "metadata": {},
   "source": [
    "### 2. Write a tokenization function to process your text data"
   ]
  },
  {
   "cell_type": "code",
   "execution_count": 13,
   "metadata": {},
   "outputs": [],
   "source": [
    "def tokenize(text):\n",
    "    tokens = nltk.word_tokenize(text)\n",
    "    lemmatizzer = nltk.WordNetLemmatizer()\n",
    "    \n",
    "    return [lemmatizzer.lemmatize(w).lower().strip() for w in tokens]"
   ]
  },
  {
   "cell_type": "markdown",
   "metadata": {},
   "source": [
    "### 3. Build a machine learning pipeline\n",
    "- You'll find the [MultiOutputClassifier](http://scikit-learn.org/stable/modules/generated/sklearn.multioutput.MultiOutputClassifier.html) helpful for predicting multiple target variables."
   ]
  },
  {
   "cell_type": "code",
   "execution_count": 14,
   "metadata": {},
   "outputs": [],
   "source": [
    "pipeline = Pipeline([('cvect', CountVectorizer(tokenizer = tokenize)),\n",
    "                     ('tfidf', TfidfTransformer()),\n",
    "                     ('clf', RandomForestClassifier())\n",
    "                     ])"
   ]
  },
  {
   "cell_type": "markdown",
   "metadata": {},
   "source": [
    "### 4. Train pipeline\n",
    "- Split data into train and test sets\n",
    "- Train pipeline"
   ]
  },
  {
   "cell_type": "code",
   "execution_count": 15,
   "metadata": {},
   "outputs": [
    {
     "name": "stderr",
     "output_type": "stream",
     "text": [
      "C:\\Users\\Fatemah\\Anaconda3\\lib\\site-packages\\sklearn\\ensemble\\forest.py:246: FutureWarning: The default value of n_estimators will change from 10 in version 0.20 to 100 in 0.22.\n",
      "  \"10 in version 0.20 to 100 in 0.22.\", FutureWarning)\n"
     ]
    },
    {
     "data": {
      "text/plain": [
       "Pipeline(memory=None,\n",
       "     steps=[('cvect', CountVectorizer(analyzer='word', binary=False, decode_error='strict',\n",
       "        dtype=<class 'numpy.int64'>, encoding='utf-8', input='content',\n",
       "        lowercase=True, max_df=1.0, max_features=None, min_df=1,\n",
       "        ngram_range=(1, 1), preprocessor=None, stop_words=None,\n",
       "        stri...obs=None,\n",
       "            oob_score=False, random_state=None, verbose=0,\n",
       "            warm_start=False))])"
      ]
     },
     "execution_count": 15,
     "metadata": {},
     "output_type": "execute_result"
    }
   ],
   "source": [
    "X_train, X_test, y_train, y_test = train_test_split(X, y)\n",
    "pipeline.fit(X_train['message'], y_train)"
   ]
  },
  {
   "cell_type": "markdown",
   "metadata": {},
   "source": [
    "### 5. Test your model\n",
    "Report the f1 score, precision and recall for each output category of the dataset. You can do this by iterating through the columns and calling sklearn's `classification_report` on each."
   ]
  },
  {
   "cell_type": "code",
   "execution_count": 16,
   "metadata": {},
   "outputs": [
    {
     "name": "stdout",
     "output_type": "stream",
     "text": [
      "                        precision    recall  f1-score   support\n",
      "\n",
      "               related       0.83      0.90      0.87      4947\n",
      "               request       0.84      0.40      0.54      1109\n",
      "                 offer       0.00      0.00      0.00        30\n",
      "           aid_related       0.76      0.43      0.55      2658\n",
      "          medical_help       0.75      0.02      0.04       480\n",
      "      medical_products       0.86      0.02      0.04       320\n",
      "     search_and_rescue       0.71      0.06      0.11       173\n",
      "              security       0.50      0.01      0.02       123\n",
      "              military       0.25      0.00      0.01       215\n",
      "                 water       0.90      0.15      0.26       392\n",
      "                  food       0.88      0.28      0.43       709\n",
      "               shelter       0.86      0.16      0.27       580\n",
      "              clothing       0.82      0.09      0.16       102\n",
      "                 money       1.00      0.04      0.08       123\n",
      "        missing_people       0.50      0.01      0.03        67\n",
      "              refugees       0.00      0.00      0.00       228\n",
      "                 death       0.86      0.04      0.08       294\n",
      "             other_aid       0.51      0.02      0.05       860\n",
      "infrastructure_related       0.00      0.00      0.00       426\n",
      "             transport       1.00      0.01      0.01       298\n",
      "             buildings       0.50      0.01      0.03       307\n",
      "           electricity       1.00      0.01      0.03       135\n",
      "                 tools       0.00      0.00      0.00        39\n",
      "             hospitals       0.00      0.00      0.00        67\n",
      "                 shops       0.00      0.00      0.00        29\n",
      "           aid_centers       0.00      0.00      0.00        86\n",
      "  other_infrastructure       0.00      0.00      0.00       293\n",
      "       weather_related       0.84      0.38      0.52      1794\n",
      "                floods       0.82      0.11      0.20       525\n",
      "                 storm       0.83      0.15      0.26       595\n",
      "                  fire       0.00      0.00      0.00        71\n",
      "            earthquake       0.89      0.37      0.52       574\n",
      "                  cold       0.00      0.00      0.00       144\n",
      "         other_weather       0.60      0.01      0.02       359\n",
      "         direct_report       0.80      0.31      0.44      1288\n",
      "\n",
      "             micro avg       0.82      0.39      0.53     20440\n",
      "             macro avg       0.55      0.11      0.16     20440\n",
      "          weighted avg       0.74      0.39      0.45     20440\n",
      "           samples avg       0.65      0.38      0.42     20440\n",
      "\n",
      "\n",
      "                         precision    recall  f1-score   support\n",
      "\n",
      "               related       1.00      1.00      1.00     15147\n",
      "               request       1.00      0.92      0.96      3365\n",
      "                 offer       1.00      0.75      0.86        88\n",
      "           aid_related       1.00      0.96      0.98      8202\n",
      "          medical_help       1.00      0.83      0.91      1604\n",
      "      medical_products       1.00      0.80      0.89       993\n",
      "     search_and_rescue       1.00      0.75      0.86       551\n",
      "              security       1.00      0.72      0.84       348\n",
      "              military       1.00      0.81      0.89       645\n",
      "                 water       1.00      0.88      0.94      1280\n",
      "                  food       1.00      0.91      0.95      2214\n",
      "               shelter       1.00      0.88      0.94      1734\n",
      "              clothing       1.00      0.78      0.88       303\n",
      "                 money       1.00      0.78      0.88       481\n",
      "        missing_people       1.00      0.72      0.84       231\n",
      "              refugees       1.00      0.77      0.87       647\n",
      "                 death       1.00      0.83      0.91       900\n",
      "             other_aid       1.00      0.84      0.92      2586\n",
      "infrastructure_related       1.00      0.79      0.88      1279\n",
      "             transport       1.00      0.79      0.88       903\n",
      "             buildings       1.00      0.84      0.91      1026\n",
      "           electricity       1.00      0.82      0.90       397\n",
      "                 tools       1.00      0.68      0.81       120\n",
      "             hospitals       1.00      0.70      0.83       216\n",
      "                 shops       1.00      0.81      0.90        91\n",
      "           aid_centers       1.00      0.70      0.82       223\n",
      "  other_infrastructure       1.00      0.78      0.87       858\n",
      "       weather_related       1.00      0.94      0.97      5503\n",
      "                floods       1.00      0.88      0.94      1630\n",
      "                 storm       1.00      0.89      0.94      1848\n",
      "                  fire       1.00      0.77      0.87       211\n",
      "            earthquake       1.00      0.93      0.96      1881\n",
      "                  cold       1.00      0.77      0.87       386\n",
      "         other_weather       1.00      0.78      0.88      1017\n",
      "         direct_report       1.00      0.92      0.96      3787\n",
      "\n",
      "             micro avg       1.00      0.91      0.95     62695\n",
      "             macro avg       1.00      0.82      0.90     62695\n",
      "          weighted avg       1.00      0.91      0.95     62695\n",
      "           samples avg       0.77      0.72      0.74     62695\n",
      "\n"
     ]
    },
    {
     "name": "stderr",
     "output_type": "stream",
     "text": [
      "C:\\Users\\Fatemah\\Anaconda3\\lib\\site-packages\\sklearn\\metrics\\classification.py:1143: UndefinedMetricWarning: Precision and F-score are ill-defined and being set to 0.0 in labels with no predicted samples.\n",
      "  'precision', 'predicted', average, warn_for)\n",
      "C:\\Users\\Fatemah\\Anaconda3\\lib\\site-packages\\sklearn\\metrics\\classification.py:1143: UndefinedMetricWarning: Precision and F-score are ill-defined and being set to 0.0 in samples with no predicted labels.\n",
      "  'precision', 'predicted', average, warn_for)\n",
      "C:\\Users\\Fatemah\\Anaconda3\\lib\\site-packages\\sklearn\\metrics\\classification.py:1145: UndefinedMetricWarning: Recall and F-score are ill-defined and being set to 0.0 in samples with no true labels.\n",
      "  'recall', 'true', average, warn_for)\n"
     ]
    }
   ],
   "source": [
    "y_pred_train = pipeline.predict(X_train['message'])\n",
    "\n",
    "y_pred_test = pipeline.predict(X_test['message'])\n",
    "\n",
    "print(classification_report(y_test.values, y_pred_test, target_names=y.columns.values))\n",
    "\n",
    "\n",
    "print('\\n',classification_report(y_train.values, y_pred_train, target_names=y.columns.values))"
   ]
  },
  {
   "cell_type": "markdown",
   "metadata": {},
   "source": [
    "### 6. Improve your model\n",
    "Use grid search to find better parameters. "
   ]
  },
  {
   "cell_type": "code",
   "execution_count": 17,
   "metadata": {},
   "outputs": [
    {
     "name": "stderr",
     "output_type": "stream",
     "text": [
      "C:\\Users\\Fatemah\\Anaconda3\\lib\\site-packages\\sklearn\\model_selection\\_split.py:2053: FutureWarning: You should specify a value for 'cv' instead of relying on the default value. The default value will change from 3 to 5 in version 0.22.\n",
      "  warnings.warn(CV_WARNING, FutureWarning)\n",
      "[Parallel(n_jobs=-1)]: Using backend LokyBackend with 8 concurrent workers.\n"
     ]
    },
    {
     "name": "stdout",
     "output_type": "stream",
     "text": [
      "Fitting 3 folds for each of 81 candidates, totalling 243 fits\n"
     ]
    },
    {
     "name": "stderr",
     "output_type": "stream",
     "text": [
      "[Parallel(n_jobs=-1)]: Done  34 tasks      | elapsed:  3.0min\n",
      "[Parallel(n_jobs=-1)]: Done 184 tasks      | elapsed: 16.1min\n",
      "[Parallel(n_jobs=-1)]: Done 243 out of 243 | elapsed: 21.3min finished\n"
     ]
    },
    {
     "data": {
      "text/plain": [
       "GridSearchCV(cv='warn', error_score='raise-deprecating',\n",
       "       estimator=Pipeline(memory=None,\n",
       "     steps=[('cvect', CountVectorizer(analyzer='word', binary=False, decode_error='strict',\n",
       "        dtype=<class 'numpy.int64'>, encoding='utf-8', input='content',\n",
       "        lowercase=True, max_df=1.0, max_features=None, min_df=1,\n",
       "        ngram_range=(1, 1), preprocessor=None, stop_words=None,\n",
       "        stri...obs=None,\n",
       "            oob_score=False, random_state=None, verbose=0,\n",
       "            warm_start=False))]),\n",
       "       fit_params=None, iid='warn', n_jobs=-1,\n",
       "       param_grid={'clf__max_depth': [10, 20, None], 'clf__min_samples_leaf': [2, 5, 10], 'clf__min_samples_split': [2, 5, 10], 'clf__n_estimators': [10, 20, 40]},\n",
       "       pre_dispatch='2*n_jobs', refit=True, return_train_score='warn',\n",
       "       scoring='f1_micro', verbose=1)"
      ]
     },
     "execution_count": 17,
     "metadata": {},
     "output_type": "execute_result"
    }
   ],
   "source": [
    "parameters = {'clf__max_depth': [10, 20, None],\n",
    "              'clf__min_samples_leaf': [2, 5, 10],\n",
    "              'clf__min_samples_split': [2, 5, 10],\n",
    "              'clf__n_estimators': [10, 20, 40]}\n",
    "\n",
    "cv = GridSearchCV(pipeline, param_grid=parameters, scoring='f1_micro', verbose=1, n_jobs=-1)\n",
    "cv.fit(X_train['message'], y_train)"
   ]
  },
  {
   "cell_type": "markdown",
   "metadata": {},
   "source": [
    "### 7. Test your model\n",
    "Show the accuracy, precision, and recall of the tuned model.  \n",
    "\n",
    "Since this project focuses on code quality, process, and  pipelines, there is no minimum performance metric needed to pass. However, make sure to fine tune your models for accuracy, precision and recall to make your project stand out - especially for your portfolio!"
   ]
  },
  {
   "cell_type": "code",
   "execution_count": 18,
   "metadata": {},
   "outputs": [
    {
     "name": "stdout",
     "output_type": "stream",
     "text": [
      "                        precision    recall  f1-score   support\n",
      "\n",
      "               related       0.78      0.99      0.87      4947\n",
      "               request       0.95      0.22      0.36      1109\n",
      "                 offer       0.00      0.00      0.00        30\n",
      "           aid_related       0.79      0.58      0.67      2658\n",
      "          medical_help       0.00      0.00      0.00       480\n",
      "      medical_products       0.00      0.00      0.00       320\n",
      "     search_and_rescue       1.00      0.01      0.01       173\n",
      "              security       0.00      0.00      0.00       123\n",
      "              military       0.00      0.00      0.00       215\n",
      "                 water       0.00      0.00      0.00       392\n",
      "                  food       0.94      0.04      0.08       709\n",
      "               shelter       1.00      0.01      0.01       580\n",
      "              clothing       0.00      0.00      0.00       102\n",
      "                 money       0.00      0.00      0.00       123\n",
      "        missing_people       0.00      0.00      0.00        67\n",
      "              refugees       0.00      0.00      0.00       228\n",
      "                 death       0.00      0.00      0.00       294\n",
      "             other_aid       0.00      0.00      0.00       860\n",
      "infrastructure_related       0.00      0.00      0.00       426\n",
      "             transport       0.00      0.00      0.00       298\n",
      "             buildings       0.00      0.00      0.00       307\n",
      "           electricity       0.00      0.00      0.00       135\n",
      "                 tools       0.00      0.00      0.00        39\n",
      "             hospitals       0.00      0.00      0.00        67\n",
      "                 shops       0.00      0.00      0.00        29\n",
      "           aid_centers       0.00      0.00      0.00        86\n",
      "  other_infrastructure       0.00      0.00      0.00       293\n",
      "       weather_related       0.90      0.42      0.57      1794\n",
      "                floods       0.86      0.07      0.13       525\n",
      "                 storm       0.84      0.08      0.15       595\n",
      "                  fire       0.00      0.00      0.00        71\n",
      "            earthquake       0.90      0.25      0.39       574\n",
      "                  cold       0.00      0.00      0.00       144\n",
      "         other_weather       0.00      0.00      0.00       359\n",
      "         direct_report       0.94      0.18      0.30      1288\n",
      "\n",
      "             micro avg       0.80      0.39      0.52     20440\n",
      "             macro avg       0.28      0.08      0.10     20440\n",
      "          weighted avg       0.62      0.39      0.41     20440\n",
      "           samples avg       0.72      0.41      0.47     20440\n",
      "\n",
      "\n",
      "                         precision    recall  f1-score   support\n",
      "\n",
      "               related       0.80      0.99      0.89     15147\n",
      "               request       0.97      0.31      0.47      3365\n",
      "                 offer       0.00      0.00      0.00        88\n",
      "           aid_related       0.90      0.73      0.81      8202\n",
      "          medical_help       1.00      0.01      0.02      1604\n",
      "      medical_products       1.00      0.01      0.01       993\n",
      "     search_and_rescue       1.00      0.00      0.00       551\n",
      "              security       0.00      0.00      0.00       348\n",
      "              military       1.00      0.00      0.00       645\n",
      "                 water       1.00      0.01      0.02      1280\n",
      "                  food       0.99      0.08      0.15      2214\n",
      "               shelter       1.00      0.03      0.05      1734\n",
      "              clothing       0.00      0.00      0.00       303\n",
      "                 money       0.00      0.00      0.00       481\n",
      "        missing_people       0.00      0.00      0.00       231\n",
      "              refugees       1.00      0.01      0.01       647\n",
      "                 death       1.00      0.02      0.04       900\n",
      "             other_aid       0.00      0.00      0.00      2586\n",
      "infrastructure_related       1.00      0.01      0.02      1279\n",
      "             transport       1.00      0.01      0.02       903\n",
      "             buildings       1.00      0.01      0.02      1026\n",
      "           electricity       0.00      0.00      0.00       397\n",
      "                 tools       0.00      0.00      0.00       120\n",
      "             hospitals       0.00      0.00      0.00       216\n",
      "                 shops       0.00      0.00      0.00        91\n",
      "           aid_centers       0.00      0.00      0.00       223\n",
      "  other_infrastructure       0.00      0.00      0.00       858\n",
      "       weather_related       0.94      0.56      0.70      5503\n",
      "                floods       0.98      0.16      0.28      1630\n",
      "                 storm       0.94      0.14      0.24      1848\n",
      "                  fire       0.00      0.00      0.00       211\n",
      "            earthquake       0.95      0.31      0.47      1881\n",
      "                  cold       0.00      0.00      0.00       386\n",
      "         other_weather       1.00      0.00      0.00      1017\n",
      "         direct_report       0.96      0.26      0.41      3787\n",
      "\n",
      "             micro avg       0.86      0.44      0.58     62695\n",
      "             macro avg       0.58      0.10      0.13     62695\n",
      "          weighted avg       0.82      0.44      0.47     62695\n",
      "           samples avg       0.75      0.45      0.52     62695\n",
      "\n"
     ]
    },
    {
     "name": "stderr",
     "output_type": "stream",
     "text": [
      "C:\\Users\\Fatemah\\Anaconda3\\lib\\site-packages\\sklearn\\metrics\\classification.py:1143: UndefinedMetricWarning: Precision and F-score are ill-defined and being set to 0.0 in labels with no predicted samples.\n",
      "  'precision', 'predicted', average, warn_for)\n",
      "C:\\Users\\Fatemah\\Anaconda3\\lib\\site-packages\\sklearn\\metrics\\classification.py:1143: UndefinedMetricWarning: Precision and F-score are ill-defined and being set to 0.0 in samples with no predicted labels.\n",
      "  'precision', 'predicted', average, warn_for)\n",
      "C:\\Users\\Fatemah\\Anaconda3\\lib\\site-packages\\sklearn\\metrics\\classification.py:1145: UndefinedMetricWarning: Recall and F-score are ill-defined and being set to 0.0 in samples with no true labels.\n",
      "  'recall', 'true', average, warn_for)\n"
     ]
    }
   ],
   "source": [
    "y_pred_train = cv.predict(X_train['message'])\n",
    "y_pred_test = cv.predict(X_test['message'])\n",
    "\n",
    "print(classification_report(y_test.values, y_pred_test, target_names=y.columns.values))\n",
    "\n",
    "print('\\n',classification_report(y_train.values, y_pred_train, target_names=y.columns.values))"
   ]
  },
  {
   "cell_type": "markdown",
   "metadata": {},
   "source": [
    "### 8. Try improving your model further. Here are a few ideas:\n",
    "* try other machine learning algorithms\n",
    "* add other features besides the TF-IDF"
   ]
  },
  {
   "cell_type": "code",
   "execution_count": 19,
   "metadata": {},
   "outputs": [
    {
     "data": {
      "text/plain": [
       "{'clf__max_depth': None,\n",
       " 'clf__min_samples_leaf': 2,\n",
       " 'clf__min_samples_split': 10,\n",
       " 'clf__n_estimators': 40}"
      ]
     },
     "execution_count": 19,
     "metadata": {},
     "output_type": "execute_result"
    }
   ],
   "source": [
    "cv.best_params_"
   ]
  },
  {
   "cell_type": "markdown",
   "metadata": {},
   "source": [
    "### 9. Export your model as a pickle file"
   ]
  },
  {
   "cell_type": "code",
   "execution_count": 20,
   "metadata": {},
   "outputs": [],
   "source": [
    "m = pickle.dumps('clf')"
   ]
  },
  {
   "cell_type": "markdown",
   "metadata": {},
   "source": [
    "### 10. Use this notebook to complete `train.py`\n",
    "Use the template file attached in the Resources folder to write a script that runs the steps above to create a database and export a model based on a new dataset specified by the user."
   ]
  }
 ],
 "metadata": {
  "kernelspec": {
   "display_name": "Python 3",
   "language": "python",
   "name": "python3"
  },
  "language_info": {
   "codemirror_mode": {
    "name": "ipython",
    "version": 3
   },
   "file_extension": ".py",
   "mimetype": "text/x-python",
   "name": "python",
   "nbconvert_exporter": "python",
   "pygments_lexer": "ipython3",
   "version": "3.7.1"
  }
 },
 "nbformat": 4,
 "nbformat_minor": 2
}
